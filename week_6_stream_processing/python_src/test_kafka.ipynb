{
 "cells": [
  {
   "cell_type": "markdown",
   "id": "fc5ed75e-2b8b-4244-82bc-74a43fe0f28a",
   "metadata": {},
   "source": [
    "Producer message "
   ]
  },
  {
   "cell_type": "code",
   "execution_count": 3,
   "id": "4099b04f-da35-4ebe-bb00-2c2e6069e14b",
   "metadata": {},
   "outputs": [],
   "source": [
    "def read_ccloud_config(config_file):\n",
    "    conf = {}\n",
    "    with open(config_file) as fh:\n",
    "        for line in fh:\n",
    "            line = line.strip()\n",
    "            if len(line) != 0 and line[0] != \"#\":\n",
    "                parameter, value = line.strip().split('=', 1)\n",
    "                conf[parameter] = value.strip()\n",
    "    return conf"
   ]
  },
  {
   "cell_type": "code",
   "execution_count": 4,
   "id": "144e6ba3-1aeb-4b53-b50b-e9416bc50d34",
   "metadata": {},
   "outputs": [],
   "source": [
    "config_file=\"client.properties\""
   ]
  },
  {
   "cell_type": "code",
   "execution_count": 8,
   "id": "bed06619-be41-4c31-890d-88955f2a460e",
   "metadata": {},
   "outputs": [
    {
     "name": "stderr",
     "output_type": "stream",
     "text": [
      "%4|1692648807.796|CONFWARN|rdkafka#producer-3| [thrd:app]: Configuration property session.timeout.ms is a consumer property and will be ignored by this producer instance\n"
     ]
    }
   ],
   "source": [
    "from confluent_kafka import Producer\n",
    "producer = Producer(read_ccloud_config(\"client.properties\"))"
   ]
  },
  {
   "cell_type": "code",
   "execution_count": 17,
   "id": "c69498bd-290c-49f1-9498-2e911f143941",
   "metadata": {},
   "outputs": [],
   "source": [
    "producer.produce(\"rides\", key=\"key\", value=\"value of python \")"
   ]
  },
  {
   "cell_type": "code",
   "execution_count": 18,
   "id": "94b17356-d204-41da-9987-570d1953c0eb",
   "metadata": {},
   "outputs": [
    {
     "name": "stderr",
     "output_type": "stream",
     "text": [
      "%6|1692655955.305|FAIL|rdkafka#consumer-4| [thrd:GroupCoordinator]: GroupCoordinator: b4-pkc-n3603.us-central1.gcp.confluent.cloud:9092: Disconnected (after 1646845ms in state UP)\n",
      "%6|1692655955.412|FAIL|rdkafka#consumer-4| [thrd:sasl_ssl://b3-pkc-n3603.us-central1.gcp.confluent.cloud:9092/3]: sasl_ssl://b3-pkc-n3603.us-central1.gcp.confluent.cloud:9092/3: Disconnected (after 1646344ms in state UP)\n"
     ]
    }
   ],
   "source": [
    "for i in range(12):\n",
    "    producer.produce(\"rides\", key=f\"key_{i}\", value=f\"value of python with key_{i}\")"
   ]
  },
  {
   "cell_type": "markdown",
   "id": "cde58b87-a77a-40ba-ae3e-3b7afc793e7a",
   "metadata": {},
   "source": [
    "End of Producer"
   ]
  },
  {
   "cell_type": "markdown",
   "id": "e377d72d-1bf7-4803-9296-eac813a9c935",
   "metadata": {},
   "source": [
    "code of Consumer"
   ]
  },
  {
   "cell_type": "code",
   "execution_count": 13,
   "id": "85204583-1569-4b47-9a80-a00773d9535d",
   "metadata": {},
   "outputs": [],
   "source": [
    "from confluent_kafka import Consumer"
   ]
  },
  {
   "cell_type": "code",
   "execution_count": 14,
   "id": "eeaae8ac-6be6-41f2-a86f-e85a695cc9d5",
   "metadata": {},
   "outputs": [],
   "source": [
    "props = read_ccloud_config(\"client.properties\")\n",
    "props[\"group.id\"] = \"python-group-1\"\n",
    "props[\"auto.offset.reset\"] = \"earliest\""
   ]
  },
  {
   "cell_type": "code",
   "execution_count": 15,
   "id": "4822ab6f-9548-4d7b-879c-a28ad106f1db",
   "metadata": {},
   "outputs": [],
   "source": [
    "consumer = Consumer(props)\n",
    "consumer.subscribe([\"rides\"])"
   ]
  },
  {
   "cell_type": "code",
   "execution_count": 16,
   "id": "52a69e25-c19d-43f1-9e44-2d14c42b3059",
   "metadata": {},
   "outputs": [
    {
     "ename": "IndentationError",
     "evalue": "expected an indented block (1870926383.py, line 3)",
     "output_type": "error",
     "traceback": [
      "\u001b[0;36m  Cell \u001b[0;32mIn[16], line 3\u001b[0;36m\u001b[0m\n\u001b[0;31m    msg = consumer.poll(1.0)\u001b[0m\n\u001b[0m    ^\u001b[0m\n\u001b[0;31mIndentationError\u001b[0m\u001b[0;31m:\u001b[0m expected an indented block\n"
     ]
    }
   ],
   "source": [
    "try:\n",
    "    while True:\n",
    "    msg = consumer.poll(1.0)\n",
    "    if msg is not None and msg.error() is None:\n",
    "         print(\"key = {key:12} value = {value:12}\".format(key=msg.key().decode('utf-8'), value=msg.value().decode('utf-8')))\n",
    "    except KeyboardInterrupt:\n",
    "         pass\n",
    "    finally:\n",
    "         consumer.close()"
   ]
  },
  {
   "cell_type": "code",
   "execution_count": null,
   "id": "5916d113-9095-4428-b9cd-902c360c21a3",
   "metadata": {},
   "outputs": [],
   "source": []
  }
 ],
 "metadata": {
  "kernelspec": {
   "display_name": "Python 3 (ipykernel)",
   "language": "python",
   "name": "python3"
  },
  "language_info": {
   "codemirror_mode": {
    "name": "ipython",
    "version": 3
   },
   "file_extension": ".py",
   "mimetype": "text/x-python",
   "name": "python",
   "nbconvert_exporter": "python",
   "pygments_lexer": "ipython3",
   "version": "3.9.17"
  }
 },
 "nbformat": 4,
 "nbformat_minor": 5
}
