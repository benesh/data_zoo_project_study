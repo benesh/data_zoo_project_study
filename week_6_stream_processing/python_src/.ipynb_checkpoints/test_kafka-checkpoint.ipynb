{
 "cells": [
  {
   "cell_type": "code",
   "execution_count": 3,
   "id": "4099b04f-da35-4ebe-bb00-2c2e6069e14b",
   "metadata": {},
   "outputs": [],
   "source": [
    "def read_ccloud_config(config_file):\n",
    "    conf = {}\n",
    "    with open(config_file) as fh:\n",
    "        for line in fh:\n",
    "            line = line.strip()\n",
    "            if len(line) != 0 and line[0] != \"#\":\n",
    "                parameter, value = line.strip().split('=', 1)\n",
    "                conf[parameter] = value.strip()\n",
    "    return conf"
   ]
  },
  {
   "cell_type": "code",
   "execution_count": 4,
   "id": "144e6ba3-1aeb-4b53-b50b-e9416bc50d34",
   "metadata": {},
   "outputs": [],
   "source": [
    "config_file=\"client.properties\""
   ]
  },
  {
   "cell_type": "code",
   "execution_count": 5,
   "id": "bed06619-be41-4c31-890d-88955f2a460e",
   "metadata": {},
   "outputs": [
    {
     "name": "stderr",
     "output_type": "stream",
     "text": [
      "%4|1692648507.467|CONFWARN|rdkafka#producer-1| [thrd:app]: Configuration property session.timeout.ms is a consumer property and will be ignored by this producer instance\n"
     ]
    }
   ],
   "source": [
    "from confluent_kafka import Producer\n",
    "producer = Producer(read_ccloud_config(\"client.properties\"))"
   ]
  },
  {
   "cell_type": "code",
   "execution_count": 6,
   "id": "c69498bd-290c-49f1-9498-2e911f143941",
   "metadata": {},
   "outputs": [],
   "source": [
    "producer.produce(\"rides\", key=\"key\", value=\"value of python \")"
   ]
  }
 ],
 "metadata": {
  "kernelspec": {
   "display_name": "Python 3 (ipykernel)",
   "language": "python",
   "name": "python3"
  },
  "language_info": {
   "codemirror_mode": {
    "name": "ipython",
    "version": 3
   },
   "file_extension": ".py",
   "mimetype": "text/x-python",
   "name": "python",
   "nbconvert_exporter": "python",
   "pygments_lexer": "ipython3",
   "version": "3.9.17"
  }
 },
 "nbformat": 4,
 "nbformat_minor": 5
}
