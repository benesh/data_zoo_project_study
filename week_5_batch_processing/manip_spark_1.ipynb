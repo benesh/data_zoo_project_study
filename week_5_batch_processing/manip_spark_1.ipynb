{
 "cells": [
  {
   "cell_type": "code",
   "execution_count": 1,
   "id": "5c518d0a-40b3-4ce6-af49-6f7316a766ef",
   "metadata": {},
   "outputs": [],
   "source": [
    "import pyspark "
   ]
  },
  {
   "cell_type": "code",
   "execution_count": 2,
   "id": "3a9bb261-e9cd-4fe7-987f-7aee6d356c9b",
   "metadata": {},
   "outputs": [],
   "source": [
    "from pyspark.sql import SparkSession"
   ]
  },
  {
   "cell_type": "code",
   "execution_count": 3,
   "id": "32c9ef53-29ef-489a-9859-e569a096fcbe",
   "metadata": {},
   "outputs": [],
   "source": [
    "spark = SparkSession.builder\\\n",
    "                    .master(\"local[*]\")\\\n",
    "                    .appName(\"test\")\\\n",
    "                    .getOrCreate()"
   ]
  },
  {
   "cell_type": "code",
   "execution_count": 5,
   "id": "aca10724-ca72-4539-9e01-17d40c1f6b86",
   "metadata": {},
   "outputs": [
    {
     "name": "stderr",
     "output_type": "stream",
     "text": [
      "'wc' is not recognized as an internal or external command,\n",
      "operable program or batch file.\n"
     ]
    }
   ],
   "source": [
    "!wc https://d37ci6vzurychx.cloudfront.net/trip-data/fhvhv_tripdata_2021-02.parquet"
   ]
  },
  {
   "cell_type": "code",
   "execution_count": 9,
   "id": "7f421555-3970-4e8a-b039-e1547994dfa3",
   "metadata": {},
   "outputs": [],
   "source": [
    "df = spark.read.option('header','true')\\\n",
    "    .parquet('fhvhv_tripdata_2021-02.parquet')"
   ]
  },
  {
   "cell_type": "code",
   "execution_count": 12,
   "id": "2501a511-2585-4c1b-b6d9-a2b5e5e1161f",
   "metadata": {},
   "outputs": [
    {
     "name": "stdout",
     "output_type": "stream",
     "text": [
      " Volume in drive C has no label.\n",
      " Volume Serial Number is 22D6-1BDA\n",
      "\n",
      " Directory of C:\\Users\\omarb\\Workspace\\data_zoo_project_study\\week_5_batch_processing\n",
      "\n",
      "05/08/2023  17:00    <DIR>          .\n",
      "05/08/2023  14:26    <DIR>          ..\n",
      "05/08/2023  16:50    <DIR>          .ipynb_checkpoints\n",
      "30/06/2022  05:16       302,633,211 fhvhv_tripdata_2021-02.parquet\n",
      "05/08/2023  17:00             2,429 Untitled.ipynb\n",
      "               2 File(s)    302,635,640 bytes\n",
      "               3 Dir(s)  107,817,050,112 bytes free\n"
     ]
    }
   ],
   "source": [
    "!dir"
   ]
  },
  {
   "cell_type": "code",
   "execution_count": 14,
   "id": "c0a2f5d1-9b2d-47f8-ac7c-2b16f4948882",
   "metadata": {},
   "outputs": [
    {
     "data": {
      "text/plain": [
       "[Row(hvfhs_license_num='HV0003', dispatching_base_num='B02764', originating_base_num='B02764', request_datetime=datetime.datetime(2021, 1, 31, 23, 59), on_scene_datetime=datetime.datetime(2021, 2, 1, 0, 10, 19), pickup_datetime=datetime.datetime(2021, 2, 1, 0, 10, 40), dropoff_datetime=datetime.datetime(2021, 2, 1, 0, 21, 9), PULocationID=35, DOLocationID=39, trip_miles=2.06, trip_time=629, base_passenger_fare=17.14, tolls=0.0, bcf=0.51, sales_tax=1.52, congestion_surcharge=0.0, airport_fee=None, tips=0.0, driver_pay=9.79, shared_request_flag='N', shared_match_flag='N', access_a_ride_flag=' ', wav_request_flag='N', wav_match_flag='N'),\n",
       " Row(hvfhs_license_num='HV0003', dispatching_base_num='B02764', originating_base_num='B02764', request_datetime=datetime.datetime(2021, 2, 1, 0, 13, 35), on_scene_datetime=datetime.datetime(2021, 2, 1, 0, 25, 23), pickup_datetime=datetime.datetime(2021, 2, 1, 0, 27, 23), dropoff_datetime=datetime.datetime(2021, 2, 1, 0, 44, 1), PULocationID=39, DOLocationID=35, trip_miles=3.15, trip_time=998, base_passenger_fare=32.11, tolls=0.0, bcf=0.96, sales_tax=2.85, congestion_surcharge=0.0, airport_fee=None, tips=0.0, driver_pay=24.01, shared_request_flag='N', shared_match_flag='N', access_a_ride_flag=' ', wav_request_flag='N', wav_match_flag='N'),\n",
       " Row(hvfhs_license_num='HV0005', dispatching_base_num='B02510', originating_base_num=None, request_datetime=datetime.datetime(2021, 2, 1, 0, 12, 55), on_scene_datetime=None, pickup_datetime=datetime.datetime(2021, 2, 1, 0, 28, 38), dropoff_datetime=datetime.datetime(2021, 2, 1, 0, 38, 27), PULocationID=39, DOLocationID=91, trip_miles=1.776, trip_time=589, base_passenger_fare=12.67, tolls=0.0, bcf=0.38, sales_tax=1.12, congestion_surcharge=0.0, airport_fee=None, tips=0.0, driver_pay=6.91, shared_request_flag='N', shared_match_flag='N', access_a_ride_flag='N', wav_request_flag='N', wav_match_flag='N'),\n",
       " Row(hvfhs_license_num='HV0005', dispatching_base_num='B02510', originating_base_num=None, request_datetime=datetime.datetime(2021, 2, 1, 0, 36, 1), on_scene_datetime=None, pickup_datetime=datetime.datetime(2021, 2, 1, 0, 43, 37), dropoff_datetime=datetime.datetime(2021, 2, 1, 1, 23, 20), PULocationID=91, DOLocationID=228, trip_miles=13.599, trip_time=2383, base_passenger_fare=37.82, tolls=0.0, bcf=0.98, sales_tax=2.91, congestion_surcharge=0.0, airport_fee=None, tips=7.0, driver_pay=35.05, shared_request_flag='N', shared_match_flag='N', access_a_ride_flag='N', wav_request_flag='N', wav_match_flag='N'),\n",
       " Row(hvfhs_license_num='HV0003', dispatching_base_num='B02872', originating_base_num='B02872', request_datetime=datetime.datetime(2021, 1, 31, 23, 57, 50), on_scene_datetime=datetime.datetime(2021, 2, 1, 0, 8, 25), pickup_datetime=datetime.datetime(2021, 2, 1, 0, 8, 42), dropoff_datetime=datetime.datetime(2021, 2, 1, 0, 17, 57), PULocationID=126, DOLocationID=250, trip_miles=2.62, trip_time=555, base_passenger_fare=15.56, tolls=0.0, bcf=0.47, sales_tax=1.38, congestion_surcharge=0.0, airport_fee=None, tips=0.0, driver_pay=8.53, shared_request_flag='N', shared_match_flag='N', access_a_ride_flag=' ', wav_request_flag='N', wav_match_flag='N')]"
      ]
     },
     "execution_count": 14,
     "metadata": {},
     "output_type": "execute_result"
    }
   ],
   "source": [
    "df.head(5)"
   ]
  },
  {
   "cell_type": "code",
   "execution_count": 15,
   "id": "1e4b66e8-4db5-489b-9f64-8cf049b02e59",
   "metadata": {},
   "outputs": [
    {
     "data": {
      "text/plain": [
       "StructType([StructField('hvfhs_license_num', StringType(), True), StructField('dispatching_base_num', StringType(), True), StructField('originating_base_num', StringType(), True), StructField('request_datetime', TimestampNTZType(), True), StructField('on_scene_datetime', TimestampNTZType(), True), StructField('pickup_datetime', TimestampNTZType(), True), StructField('dropoff_datetime', TimestampNTZType(), True), StructField('PULocationID', LongType(), True), StructField('DOLocationID', LongType(), True), StructField('trip_miles', DoubleType(), True), StructField('trip_time', LongType(), True), StructField('base_passenger_fare', DoubleType(), True), StructField('tolls', DoubleType(), True), StructField('bcf', DoubleType(), True), StructField('sales_tax', DoubleType(), True), StructField('congestion_surcharge', DoubleType(), True), StructField('airport_fee', DoubleType(), True), StructField('tips', DoubleType(), True), StructField('driver_pay', DoubleType(), True), StructField('shared_request_flag', StringType(), True), StructField('shared_match_flag', StringType(), True), StructField('access_a_ride_flag', StringType(), True), StructField('wav_request_flag', StringType(), True), StructField('wav_match_flag', StringType(), True)])"
      ]
     },
     "execution_count": 15,
     "metadata": {},
     "output_type": "execute_result"
    }
   ],
   "source": [
    "df.schema"
   ]
  }
 ],
 "metadata": {
  "kernelspec": {
   "display_name": "Python 3 (ipykernel)",
   "language": "python",
   "name": "python3"
  },
  "language_info": {
   "codemirror_mode": {
    "name": "ipython",
    "version": 3
   },
   "file_extension": ".py",
   "mimetype": "text/x-python",
   "name": "python",
   "nbconvert_exporter": "python",
   "pygments_lexer": "ipython3",
   "version": "3.9.16"
  }
 },
 "nbformat": 4,
 "nbformat_minor": 5
}
