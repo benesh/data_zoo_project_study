{
 "cells": [
  {
   "cell_type": "code",
   "execution_count": 1,
   "id": "277ce7ea-5603-400f-881f-c752e0fb50d9",
   "metadata": {},
   "outputs": [
    {
     "name": "stderr",
     "output_type": "stream",
     "text": [
      "23/08/08 22:38:43 WARN Utils: Your hostname, BenOmar resolves to a loopback address: 127.0.1.1; using 172.22.12.195 instead (on interface eth0)\n",
      "23/08/08 22:38:43 WARN Utils: Set SPARK_LOCAL_IP if you need to bind to another address\n",
      "Setting default log level to \"WARN\".\n",
      "To adjust logging level use sc.setLogLevel(newLevel). For SparkR, use setLogLevel(newLevel).\n",
      "23/08/08 22:38:46 WARN NativeCodeLoader: Unable to load native-hadoop library for your platform... using builtin-java classes where applicable\n"
     ]
    }
   ],
   "source": [
    "import pyspark \n",
    "from pyspark.sql import SparkSession\n",
    "spark = SparkSession.builder\\\n",
    "                    .master(\"local[*]\")\\\n",
    "                    .appName(\"test\")\\\n",
    "                    .getOrCreate()"
   ]
  },
  {
   "cell_type": "code",
   "execution_count": 2,
   "id": "47efeec4-d559-4869-9a04-766abe9d5ae3",
   "metadata": {},
   "outputs": [
    {
     "name": "stderr",
     "output_type": "stream",
     "text": [
      "                                                                                \r"
     ]
    }
   ],
   "source": [
    "df_green = spark.read.parquet('data/pq/green/*/*')"
   ]
  },
  {
   "cell_type": "code",
   "execution_count": 3,
   "id": "6f67ecb3-58a7-45d5-82ec-619920df9e2b",
   "metadata": {},
   "outputs": [
    {
     "name": "stderr",
     "output_type": "stream",
     "text": [
      "/home/benomar/apps/miniconda/envs/pyspark_env/lib/python3.9/site-packages/pyspark/sql/dataframe.py:330: FutureWarning: Deprecated in 2.0, use createOrReplaceTempView instead.\n",
      "  warnings.warn(\"Deprecated in 2.0, use createOrReplaceTempView instead.\", FutureWarning)\n"
     ]
    }
   ],
   "source": [
    "df_green.registerTempTable('green_data')"
   ]
  },
  {
   "cell_type": "code",
   "execution_count": 6,
   "id": "8c8e0e11-3225-4d6d-8afa-cef88093f5c3",
   "metadata": {},
   "outputs": [],
   "source": [
    "df_green_revenue = spark.sql(\"\"\"\n",
    "SELECT \n",
    "    date_trunc('hour', lpep_pickup_datetime) AS hour, \n",
    "    PULocationID AS zone,\n",
    "\n",
    "    SUM(total_amount) AS amount,\n",
    "    COUNT(1) AS number_records\n",
    "FROM\n",
    "    green_data\n",
    "\n",
    "GROUP BY\n",
    "    1, 2\n",
    "\"\"\")"
   ]
  },
  {
   "cell_type": "code",
   "execution_count": 7,
   "id": "1a14f429-f13c-4966-9ee5-dc5caa7fc14f",
   "metadata": {},
   "outputs": [
    {
     "name": "stderr",
     "output_type": "stream",
     "text": [
      "[Stage 4:===================================================>       (7 + 1) / 8]\r"
     ]
    },
    {
     "name": "stdout",
     "output_type": "stream",
     "text": [
      "+-------------------+----+------------------+--------------+\n",
      "|               hour|zone|            amount|number_records|\n",
      "+-------------------+----+------------------+--------------+\n",
      "|2020-01-24 09:00:00|  81|             59.49|             2|\n",
      "|2020-01-04 21:00:00|  25|            513.83|            32|\n",
      "|2020-01-10 19:00:00|  66| 545.6800000000001|            27|\n",
      "|2020-01-30 07:00:00|  75| 556.6600000000001|            40|\n",
      "|2020-01-18 01:00:00| 260|            144.56|            12|\n",
      "|2020-01-12 08:00:00| 177|31.090000000000003|             2|\n",
      "|2020-01-20 21:00:00| 166|            133.28|            12|\n",
      "|2020-01-03 04:00:00|  14|            105.34|             2|\n",
      "|2020-01-30 20:00:00|  74| 766.4399999999996|            58|\n",
      "|2020-01-02 16:00:00|  66|257.00000000000006|            12|\n",
      "|2020-01-11 23:00:00|  42| 340.4700000000001|            31|\n",
      "|2020-01-13 12:00:00|  89|            135.25|             6|\n",
      "|2020-01-02 08:00:00| 174|50.309999999999995|             3|\n",
      "|2020-01-20 01:00:00|  41| 95.35999999999999|            12|\n",
      "|2020-01-16 21:00:00|  65| 394.2900000000001|            27|\n",
      "|2020-01-17 11:00:00|  41| 513.6600000000002|            46|\n",
      "|2020-01-22 11:00:00|  74| 854.6899999999994|            59|\n",
      "|2020-01-07 09:00:00| 116|373.72999999999996|            22|\n",
      "|2020-01-26 13:00:00|  35|            245.61|             6|\n",
      "|2020-01-12 15:00:00| 244|252.85000000000002|            14|\n",
      "+-------------------+----+------------------+--------------+\n",
      "only showing top 20 rows\n",
      "\n"
     ]
    },
    {
     "name": "stderr",
     "output_type": "stream",
     "text": [
      "                                                                                \r"
     ]
    }
   ],
   "source": [
    "df_green_revenue.show()"
   ]
  }
 ],
 "metadata": {
  "kernelspec": {
   "display_name": "Python 3 (ipykernel)",
   "language": "python",
   "name": "python3"
  },
  "language_info": {
   "codemirror_mode": {
    "name": "ipython",
    "version": 3
   },
   "file_extension": ".py",
   "mimetype": "text/x-python",
   "name": "python",
   "nbconvert_exporter": "python",
   "pygments_lexer": "ipython3",
   "version": "3.9.17"
  }
 },
 "nbformat": 4,
 "nbformat_minor": 5
}
