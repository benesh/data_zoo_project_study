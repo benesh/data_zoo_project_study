{
 "cells": [
  {
   "cell_type": "code",
   "execution_count": 1,
   "id": "84f53afd-0c28-4449-abe9-6f51d89e5ef9",
   "metadata": {},
   "outputs": [],
   "source": [
    "import pyspark\n",
    "from pyspark.sql import SparkSession"
   ]
  },
  {
   "cell_type": "code",
   "execution_count": 2,
   "id": "2fa2bdca-cbd1-4f44-8314-0c6d0c0d758a",
   "metadata": {},
   "outputs": [
    {
     "name": "stderr",
     "output_type": "stream",
     "text": [
      "23/08/10 00:00:40 WARN Utils: Your hostname, BenOmar resolves to a loopback address: 127.0.1.1; using 172.22.12.195 instead (on interface eth0)\n",
      "23/08/10 00:00:40 WARN Utils: Set SPARK_LOCAL_IP if you need to bind to another address\n",
      "Setting default log level to \"WARN\".\n",
      "To adjust logging level use sc.setLogLevel(newLevel). For SparkR, use setLogLevel(newLevel).\n",
      "23/08/10 00:00:42 WARN NativeCodeLoader: Unable to load native-hadoop library for your platform... using builtin-java classes where applicable\n"
     ]
    }
   ],
   "source": [
    "spark = SparkSession.builder \\\n",
    "    .master(\"local[*]\") \\\n",
    "    .appName('test') \\\n",
    "    .getOrCreate()"
   ]
  },
  {
   "cell_type": "code",
   "execution_count": 3,
   "id": "51c0b894-29a2-44ee-bc81-f370fd41a270",
   "metadata": {},
   "outputs": [
    {
     "name": "stderr",
     "output_type": "stream",
     "text": [
      "                                                                                \r"
     ]
    }
   ],
   "source": [
    "df_green = spark.read.parquet('data/pq/green/*/*')"
   ]
  },
  {
   "cell_type": "code",
   "execution_count": 4,
   "id": "40a665fe-f426-4dcd-8f67-58a62c3a6a50",
   "metadata": {},
   "outputs": [],
   "source": [
    "df_green.createOrReplaceTempView('green')"
   ]
  },
  {
   "cell_type": "code",
   "execution_count": 6,
   "id": "457a874b-e91c-46cd-93a1-4c4ac2937fe3",
   "metadata": {},
   "outputs": [],
   "source": [
    "df_green_revenue = spark.sql(\"\"\"\n",
    "SELECT \n",
    "    date_trunc('hour', lpep_pickup_datetime) AS hour, \n",
    "    PULocationID AS zone,\n",
    "\n",
    "    SUM(total_amount) AS amount,\n",
    "    COUNT(1) AS number_records\n",
    "FROM\n",
    "    green\n",
    "WHERE\n",
    "    lpep_pickup_datetime >= '2020-01-01 00:00:00'\n",
    "GROUP BY\n",
    "    1, 2\n",
    "\"\"\")"
   ]
  },
  {
   "cell_type": "markdown",
   "id": "e9b54f5a-c342-456d-98a8-b591d5536174",
   "metadata": {},
   "source": [
    " OR data zoo"
   ]
  },
  {
   "cell_type": "code",
   "execution_count": 5,
   "id": "30dd3afa-3e52-469b-9caf-9c04c57494f1",
   "metadata": {},
   "outputs": [],
   "source": [
    "df_green_revenue = spark.sql(\"\"\"\n",
    "SELECT \n",
    "    date_trunc('hour',lpep_pickup_datetime) AS hour, \n",
    "    PULocationID AS zone,\n",
    "\n",
    "    SUM(total_amount) AS amount,\n",
    "    COUNT(1) AS number_records\n",
    "FROM\n",
    "    green\n",
    "WHERE\n",
    "    lpep_pickup_datetime >= '2020-01-01 00:00:00'\n",
    "GROUP BY\n",
    "    1, 2\n",
    "\"\"\")"
   ]
  },
  {
   "cell_type": "code",
   "execution_count": 6,
   "id": "57c0f73b-6d5c-40a9-a4f6-c22c429667fa",
   "metadata": {},
   "outputs": [
    {
     "name": "stderr",
     "output_type": "stream",
     "text": [
      "[Stage 1:===================================================>       (7 + 1) / 8]\r"
     ]
    },
    {
     "name": "stdout",
     "output_type": "stream",
     "text": [
      "+-------------------+----+------------------+--------------+\n",
      "|               hour|zone|            amount|number_records|\n",
      "+-------------------+----+------------------+--------------+\n",
      "|2020-01-24 09:00:00|  81|             59.49|             2|\n",
      "|2020-01-04 21:00:00|  25|            513.83|            32|\n",
      "|2020-01-10 19:00:00|  66| 545.6800000000001|            27|\n",
      "|2020-01-30 07:00:00|  75| 556.6600000000001|            40|\n",
      "|2020-01-18 01:00:00| 260|            144.56|            12|\n",
      "|2020-01-12 08:00:00| 177|31.090000000000003|             2|\n",
      "|2020-01-20 21:00:00| 166|            133.28|            12|\n",
      "|2020-01-03 04:00:00|  14|            105.34|             2|\n",
      "|2020-01-30 20:00:00|  74| 766.4399999999996|            58|\n",
      "|2020-01-02 16:00:00|  66|257.00000000000006|            12|\n",
      "|2020-01-11 23:00:00|  42| 340.4700000000001|            31|\n",
      "|2020-01-13 12:00:00|  89|            135.25|             6|\n",
      "|2020-01-02 08:00:00| 174|50.309999999999995|             3|\n",
      "|2020-01-20 01:00:00|  41| 95.35999999999999|            12|\n",
      "|2020-01-16 21:00:00|  65| 394.2900000000001|            27|\n",
      "|2020-01-17 11:00:00|  41| 513.6600000000002|            46|\n",
      "|2020-01-22 11:00:00|  74| 854.6899999999994|            59|\n",
      "|2020-01-07 09:00:00| 116|373.72999999999996|            22|\n",
      "|2020-01-26 13:00:00|  35|            245.61|             6|\n",
      "|2020-01-12 15:00:00| 244|252.85000000000002|            14|\n",
      "+-------------------+----+------------------+--------------+\n",
      "only showing top 20 rows\n",
      "\n"
     ]
    },
    {
     "name": "stderr",
     "output_type": "stream",
     "text": [
      "                                                                                \r"
     ]
    }
   ],
   "source": [
    "df_green_revenue.show()"
   ]
  },
  {
   "cell_type": "code",
   "execution_count": 7,
   "id": "6ff4054f-9559-4637-b8ae-dd9758d6b82b",
   "metadata": {},
   "outputs": [
    {
     "name": "stderr",
     "output_type": "stream",
     "text": [
      "23/08/09 19:49:15 WARN MemoryManager: Total allocation exceeds 95.00% (1,020,054,720 bytes) of heap memory\n",
      "Scaling row group sizes to 95.00% for 8 writers\n",
      "23/08/09 19:49:17 WARN MemoryManager: Total allocation exceeds 95.00% (1,020,054,720 bytes) of heap memory\n",
      "Scaling row group sizes to 95.00% for 8 writers\n",
      "                                                                                \r"
     ]
    }
   ],
   "source": [
    "df_green_revenue \\\n",
    "    .repartition(20) \\\n",
    "    .write.parquet('data/report/revenue/green', mode='overwrite')"
   ]
  },
  {
   "cell_type": "code",
   "execution_count": 8,
   "id": "107fc35d-72ed-4b0e-b412-e6508ba1910f",
   "metadata": {},
   "outputs": [
    {
     "name": "stderr",
     "output_type": "stream",
     "text": [
      "23/08/09 21:30:06 WARN MemoryManager: Total allocation exceeds 95.00% (1,020,054,720 bytes) of heap memory\n",
      "Scaling row group sizes to 95.00% for 8 writers\n",
      "23/08/09 21:30:06 WARN MemoryManager: Total allocation exceeds 95.00% (1,020,054,720 bytes) of heap memory\n",
      "Scaling row group sizes to 95.00% for 8 writers\n",
      "                                                                                \r"
     ]
    }
   ],
   "source": [
    "df_yellow = spark.read.parquet('data/pq/yellow/*/*')\n",
    "df_yellow.createOrReplaceTempView('yellow')\n",
    "\n",
    "df_yellow_revenue = spark.sql(\"\"\"\n",
    "SELECT \n",
    "    date_trunc('hour', tpep_pickup_datetime) AS hour, \n",
    "    PULocationID AS zone,\n",
    "\n",
    "    SUM(total_amount) AS amount,\n",
    "    COUNT(1) AS number_records\n",
    "FROM\n",
    "    yellow\n",
    "WHERE\n",
    "    tpep_pickup_datetime >= '2020-01-01 00:00:00'\n",
    "GROUP BY\n",
    "    1, 2\n",
    "\"\"\")\n",
    "\n",
    "df_yellow_revenue \\\n",
    "    .repartition(20) \\\n",
    "    .write.parquet('data/report/revenue/yellow', mode='overwrite')"
   ]
  },
  {
   "cell_type": "code",
   "execution_count": 9,
   "id": "1cdcb03f-1738-4b21-b575-0a532a778ed6",
   "metadata": {},
   "outputs": [],
   "source": [
    "df_green_revenue = df_green_revenue\\\n",
    "    .withColumnRenamed('amount','green_amount')\\\n",
    "    .withColumnRenamed('number_records','green_number_records')\n",
    "\n",
    "df_yellow_revenue = df_yellow_revenue\\\n",
    "    .withColumnRenamed('amount','yellow_amount')\\\n",
    "    .withColumnRenamed('number_records','yellow_number_records')"
   ]
  },
  {
   "cell_type": "code",
   "execution_count": null,
   "id": "5894e305-ef66-4bfb-9c45-8a2ff7968b36",
   "metadata": {},
   "outputs": [],
   "source": []
  },
  {
   "cell_type": "code",
   "execution_count": 10,
   "id": "156aa62a-ca80-47b7-8344-b011ba1a374d",
   "metadata": {},
   "outputs": [],
   "source": [
    "df_join = df_green_revenue.join(df_yellow_revenue,on=['hour','zone'],how='outer')"
   ]
  },
  {
   "cell_type": "code",
   "execution_count": 11,
   "id": "2e43f1ec-4ae3-4485-a718-0f8f3d19e723",
   "metadata": {},
   "outputs": [
    {
     "name": "stderr",
     "output_type": "stream",
     "text": [
      "[Stage 15:===================================================>    (11 + 1) / 12]\r"
     ]
    },
    {
     "name": "stdout",
     "output_type": "stream",
     "text": [
      "+-------------------+----+------------------+--------------------+------------------+---------------------+\n",
      "|               hour|zone|      green_amount|green_number_records|     yellow_amount|yellow_number_records|\n",
      "+-------------------+----+------------------+--------------------+------------------+---------------------+\n",
      "|2020-01-01 00:00:00|  22|              15.8|                   1|              null|                 null|\n",
      "|2020-01-01 00:00:00|  25|             531.0|                  26|            324.35|                   16|\n",
      "|2020-01-01 00:00:00|  55|129.29000000000002|                   4|              null|                 null|\n",
      "|2020-01-01 00:00:00|  56|             99.69|                   3|              18.1|                    2|\n",
      "|2020-01-01 00:00:00|  60|            160.04|                   6|57.620000000000005|                    2|\n",
      "|2020-01-01 00:00:00|  61|            526.71|                  17|            146.64|                    3|\n",
      "|2020-01-01 00:00:00|  65|            199.49|                  10|            409.35|                   19|\n",
      "|2020-01-01 00:00:00|  71|              23.8|                   1|              null|                 null|\n",
      "|2020-01-01 00:00:00|  78|             34.46|                   2|              null|                 null|\n",
      "|2020-01-01 00:00:00|  88|              null|                null| 823.8000000000002|                   36|\n",
      "|2020-01-01 00:00:00| 106|             10.56|                   1|              null|                 null|\n",
      "|2020-01-01 00:00:00| 112|312.26000000000005|                  18|119.47999999999999|                    8|\n",
      "|2020-01-01 00:00:00| 113|              null|                null| 3984.319999999997|                  220|\n",
      "|2020-01-01 00:00:00| 148|              null|                null| 6790.150000000008|                  371|\n",
      "|2020-01-01 00:00:00| 161|              null|                null| 9410.210000000021|                  488|\n",
      "|2020-01-01 00:00:00| 162|              null|                null| 4622.289999999997|                  268|\n",
      "|2020-01-01 00:00:00| 185|              null|                null|             69.51|                    2|\n",
      "|2020-01-01 00:00:00| 190|             61.97|                   4|              54.1|                    3|\n",
      "|2020-01-01 00:00:00| 194|              null|                null|            148.71|                    2|\n",
      "|2020-01-01 00:00:00| 225|251.92000000000004|                  13|             74.07|                    3|\n",
      "+-------------------+----+------------------+--------------------+------------------+---------------------+\n",
      "only showing top 20 rows\n",
      "\n"
     ]
    },
    {
     "name": "stderr",
     "output_type": "stream",
     "text": [
      "                                                                                \r"
     ]
    }
   ],
   "source": [
    "df_join.show()"
   ]
  },
  {
   "cell_type": "code",
   "execution_count": 12,
   "id": "696bf66a-9fd6-4b23-8584-ab2babd8a9dc",
   "metadata": {},
   "outputs": [
    {
     "name": "stderr",
     "output_type": "stream",
     "text": [
      "23/08/09 21:31:21 WARN MemoryManager: Total allocation exceeds 95.00% (1,020,054,720 bytes) of heap memory\n",
      "Scaling row group sizes to 95.00% for 8 writers\n",
      "                                                                                \r"
     ]
    }
   ],
   "source": [
    "df_join.write.parquet('data/report/revenue/total')"
   ]
  },
  {
   "attachments": {},
   "cell_type": "markdown",
   "id": "a4091221-df0c-49d5-aac6-c5d7e678cd55",
   "metadata": {},
   "source": [
    "Part of downloading zone file"
   ]
  },
  {
   "cell_type": "code",
   "execution_count": 1,
   "id": "30389134-0280-4774-8394-3cd3b9c10dca",
   "metadata": {},
   "outputs": [
    {
     "name": "stdout",
     "output_type": "stream",
     "text": [
      "--2023-08-09 19:48:06--  https://s3.amazonaws.com/nyc-tlc/misc/taxi+_zone_lookup.csv\n",
      "Resolving s3.amazonaws.com (s3.amazonaws.com)... 54.231.133.64, 52.216.210.80, 52.217.226.88, ...\n",
      "Connecting to s3.amazonaws.com (s3.amazonaws.com)|54.231.133.64|:443... connected.\n",
      "HTTP request sent, awaiting response... 200 OK\n",
      "Length: 12322 (12K) [application/octet-stream]\n",
      "Saving to: ‘taxi+_zone_lookup.csv’\n",
      "\n",
      "taxi+_zone_lookup.c 100%[===================>]  12.03K  --.-KB/s    in 0s      \n",
      "\n",
      "2023-08-09 19:48:07 (85.5 MB/s) - ‘taxi+_zone_lookup.csv’ saved [12322/12322]\n",
      "\n"
     ]
    }
   ],
   "source": [
    "!wget https://s3.amazonaws.com/nyc-tlc/misc/taxi+_zone_lookup.csv"
   ]
  },
  {
   "cell_type": "code",
   "execution_count": 13,
   "id": "fc637fa1-2bbb-4a18-a075-02948afd9fc1",
   "metadata": {},
   "outputs": [],
   "source": [
    "df_zones = spark.read\\\n",
    ".option('header','true')\\\n",
    ".csv('taxi+_zone_lookup.csv')"
   ]
  },
  {
   "cell_type": "code",
   "execution_count": 14,
   "id": "3f5d684d-cd75-4f6f-b67a-a5d754e684dc",
   "metadata": {},
   "outputs": [],
   "source": [
    "df_zones = df_zones.withColumn('LocationID',df_zones.LocationID.cast(\"int\"))"
   ]
  },
  {
   "cell_type": "code",
   "execution_count": 15,
   "id": "9b03d513-8339-4b36-866c-87ea6195344a",
   "metadata": {},
   "outputs": [
    {
     "name": "stdout",
     "output_type": "stream",
     "text": [
      "root\n",
      " |-- LocationID: integer (nullable = true)\n",
      " |-- Borough: string (nullable = true)\n",
      " |-- Zone: string (nullable = true)\n",
      " |-- service_zone: string (nullable = true)\n",
      "\n"
     ]
    }
   ],
   "source": [
    "df_zones.printSchema()"
   ]
  },
  {
   "cell_type": "code",
   "execution_count": 16,
   "id": "8f62c6ee-14c2-4056-bfdb-84b05e0b63f1",
   "metadata": {},
   "outputs": [],
   "source": [
    "df_zones.write.parquet('data/zones',mode='overwrite')"
   ]
  },
  {
   "cell_type": "code",
   "execution_count": 17,
   "id": "abb1f0bd-48fd-4849-8fed-d3b55dad9c63",
   "metadata": {},
   "outputs": [
    {
     "name": "stdout",
     "output_type": "stream",
     "text": [
      "total 8\n",
      "-rw-r--r-- 1 benomar benomar    0 Aug  9 21:31 _SUCCESS\n",
      "-rw-r--r-- 1 benomar benomar 5926 Aug  9 21:31 part-00000-549a5172-96da-40c8-a357-72c6d4b74d52-c000.snappy.parquet\n"
     ]
    }
   ],
   "source": [
    "!ls -l data/zones/"
   ]
  },
  {
   "cell_type": "markdown",
   "id": "3e9ce98b-b82c-4988-bbe0-96616a655725",
   "metadata": {},
   "source": [
    "End on downloading Zones"
   ]
  },
  {
   "cell_type": "code",
   "execution_count": 18,
   "id": "2053506b-e239-40dd-84ff-b4d47e93b62c",
   "metadata": {},
   "outputs": [],
   "source": [
    "df_zones = spark.read.parquet('data/zones/')"
   ]
  },
  {
   "cell_type": "code",
   "execution_count": 19,
   "id": "551fd1aa-94f9-49ee-9291-68edfc7070cb",
   "metadata": {},
   "outputs": [
    {
     "name": "stdout",
     "output_type": "stream",
     "text": [
      "root\n",
      " |-- LocationID: integer (nullable = true)\n",
      " |-- Borough: string (nullable = true)\n",
      " |-- Zone: string (nullable = true)\n",
      " |-- service_zone: string (nullable = true)\n",
      "\n"
     ]
    }
   ],
   "source": [
    "df_zones.printSchema()"
   ]
  },
  {
   "cell_type": "code",
   "execution_count": 20,
   "id": "199adf67-15b3-4b10-ad43-419c7b850b7b",
   "metadata": {},
   "outputs": [],
   "source": [
    "df_total_revenue = spark.read.parquet('data/report/revenue/total/')"
   ]
  },
  {
   "cell_type": "code",
   "execution_count": 21,
   "id": "e86fb500-5978-47ee-b88a-fbb07758f9a7",
   "metadata": {},
   "outputs": [],
   "source": [
    "df_result_join_zone = df_total_revenue.join(df_zones,df_total_revenue.zone==df_zones.LocationID)"
   ]
  },
  {
   "cell_type": "code",
   "execution_count": 22,
   "id": "b29394ca-02ff-4cc9-b6fb-b742cba526ba",
   "metadata": {},
   "outputs": [
    {
     "name": "stderr",
     "output_type": "stream",
     "text": [
      "23/08/09 21:55:18 WARN MemoryManager: Total allocation exceeds 95.00% (1,020,054,720 bytes) of heap memory\n",
      "Scaling row group sizes to 95.00% for 8 writers\n",
      "                                                                                \r"
     ]
    }
   ],
   "source": [
    "df_result_join_zone.drop('zone','LocationID').write.parquet('tmp/revenue_zones')"
   ]
  },
  {
   "cell_type": "code",
   "execution_count": null,
   "id": "19554b3c-289c-46ba-a2f3-cb1b32365d01",
   "metadata": {},
   "outputs": [],
   "source": []
  }
 ],
 "metadata": {
  "kernelspec": {
   "display_name": "Python 3 (ipykernel)",
   "language": "python",
   "name": "python3"
  },
  "language_info": {
   "codemirror_mode": {
    "name": "ipython",
    "version": 3
   },
   "file_extension": ".py",
   "mimetype": "text/x-python",
   "name": "python",
   "nbconvert_exporter": "python",
   "pygments_lexer": "ipython3",
   "version": "3.9.17"
  }
 },
 "nbformat": 4,
 "nbformat_minor": 5
}
