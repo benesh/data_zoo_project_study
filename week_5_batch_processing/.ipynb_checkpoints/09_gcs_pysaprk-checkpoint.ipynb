{
 "cells": [
  {
   "cell_type": "code",
   "execution_count": 1,
   "id": "d78cef3a-9bd8-4c6f-a1d3-a707219b15f4",
   "metadata": {},
   "outputs": [],
   "source": [
    "import pyspark\n",
    "from pyspark.sql import SparkSession\n",
    "from pyspark.conf import SparkConf\n",
    "from pyspark.context import SparkContext"
   ]
  },
  {
   "cell_type": "code",
   "execution_count": 2,
   "id": "7dc0665a-4ef7-4229-bd57-0384080dbaf4",
   "metadata": {},
   "outputs": [],
   "source": [
    "credentials_location = '/home/benomar/.google/credentials/credential_gcs.json'\n",
    "\n",
    "conf = SparkConf() \\\n",
    "    .setMaster('local[*]') \\\n",
    "    .setAppName('test') \\\n",
    "    .set(\"spark.jars\", \"/home/benomar/lib/gcs_connector/gcs-connector-hadoop3-latest.jar\") \\\n",
    "    .set(\"spark.hadoop.google.cloud.auth.service.account.enable\", \"true\") \\\n",
    "    .set(\"spark.hadoop.google.cloud.auth.service.account.json.keyfile\", credentials_location)"
   ]
  },
  {
   "cell_type": "code",
   "execution_count": 3,
   "id": "276cc82f-13bd-480a-a50c-d30956144d60",
   "metadata": {},
   "outputs": [
    {
     "name": "stderr",
     "output_type": "stream",
     "text": [
      "23/08/10 19:49:35 WARN Utils: Your hostname, BenOmar resolves to a loopback address: 127.0.1.1; using 172.22.12.195 instead (on interface eth0)\n",
      "23/08/10 19:49:35 WARN Utils: Set SPARK_LOCAL_IP if you need to bind to another address\n",
      "23/08/10 19:49:36 WARN NativeCodeLoader: Unable to load native-hadoop library for your platform... using builtin-java classes where applicable\n",
      "Setting default log level to \"WARN\".\n",
      "To adjust logging level use sc.setLogLevel(newLevel). For SparkR, use setLogLevel(newLevel).\n"
     ]
    }
   ],
   "source": [
    "sc = SparkContext(conf=conf)\n",
    "\n",
    "hadoop_conf = sc._jsc.hadoopConfiguration()\n",
    "\n",
    "hadoop_conf.set(\"fs.AbstractFileSystem.gs.impl\",  \"com.google.cloud.hadoop.fs.gcs.GoogleHadoopFS\")\n",
    "hadoop_conf.set(\"fs.gs.impl\", \"com.google.cloud.hadoop.fs.gcs.GoogleHadoopFileSystem\")\n",
    "hadoop_conf.set(\"fs.gs.auth.service.account.json.keyfile\", credentials_location)\n",
    "hadoop_conf.set(\"fs.gs.auth.service.account.enable\", \"true\")"
   ]
  },
  {
   "cell_type": "code",
   "execution_count": 4,
   "id": "7e007db7-13a5-4949-aafc-8a379a60ee75",
   "metadata": {},
   "outputs": [],
   "source": [
    "spark = SparkSession.builder \\\n",
    "    .config(conf=sc.getConf()) \\\n",
    "    .getOrCreate()"
   ]
  },
  {
   "cell_type": "code",
   "execution_count": 5,
   "id": "57410d2d-cc49-417a-aba8-5777191c6bf0",
   "metadata": {},
   "outputs": [
    {
     "name": "stderr",
     "output_type": "stream",
     "text": [
      "23/08/10 19:51:46 WARN GhfsStorageStatistics: Detected potential high latency for operation op_get_file_status. latencyMs=581; previousMaxLatencyMs=0; operationCount=1; context=gs://data_zoo_bucket_free/data/pq/green/*/*\n",
      "23/08/10 19:51:46 WARN GhfsStorageStatistics: Detected potential high latency for operation op_glob_status. latencyMs=242; previousMaxLatencyMs=0; operationCount=1; context=path=gs://data_zoo_bucket_free/data/pq/green/*/*; pattern=com.google.cloud.hadoop.fs.gcs.GoogleHadoopFileSystemBase$$Lambda$1099/0x00007f3f08828ec0@2a87102e\n",
      "23/08/10 19:51:50 WARN GhfsStorageStatistics: Detected potential high latency for operation op_open. latencyMs=176; previousMaxLatencyMs=0; operationCount=1; context=gs://data_zoo_bucket_free/data/pq/green/2020/01/part-00000-e81d47e8-cddf-460b-9efd-d50aa8f5bff3-c000.snappy.parquet\n",
      "23/08/10 19:51:51 WARN GhfsStorageStatistics: Detected potential high latency for operation stream_read_operations. latencyMs=801; previousMaxLatencyMs=0; operationCount=1; context=gs://data_zoo_bucket_free/data/pq/green/2020/01/part-00000-e81d47e8-cddf-460b-9efd-d50aa8f5bff3-c000.snappy.parquet\n",
      "                                                                                \r"
     ]
    }
   ],
   "source": [
    "df_green = spark.read.parquet('gs://data_zoo_bucket_free/data/pq/green/*/*')"
   ]
  },
  {
   "cell_type": "code",
   "execution_count": 6,
   "id": "cdea6a6a-c015-4e35-82d2-c5539b26ffc6",
   "metadata": {},
   "outputs": [
    {
     "name": "stderr",
     "output_type": "stream",
     "text": [
      "23/08/10 19:52:29 WARN GhfsStorageStatistics: Detected potential high latency for operation stream_read_operations. latencyMs=1138; previousMaxLatencyMs=801; operationCount=7; context=gs://data_zoo_bucket_free/data/pq/green/2020/01/part-00003-e81d47e8-cddf-460b-9efd-d50aa8f5bff3-c000.snappy.parquet\n"
     ]
    },
    {
     "name": "stdout",
     "output_type": "stream",
     "text": [
      "+--------+--------------------+---------------------+------------------+----------+------------+------------+---------------+-------------+-----------+-----+-------+----------+------------+---------+---------------------+------------+------------+---------+--------------------+\n",
      "|VendorID|lpep_pickup_datetime|lpep_dropoff_datetime|store_and_fwd_flag|RatecodeID|PULocationID|DOLocationID|passenger_count|trip_distance|fare_amount|extra|mta_tax|tip_amount|tolls_amount|ehail_fee|improvement_surcharge|total_amount|payment_type|trip_type|congestion_surcharge|\n",
      "+--------+--------------------+---------------------+------------------+----------+------------+------------+---------------+-------------+-----------+-----+-------+----------+------------+---------+---------------------+------------+------------+---------+--------------------+\n",
      "|       2| 2020-01-12 18:15:04|  2020-01-12 18:19:52|                 N|         1|          41|          41|              1|         0.78|        5.5|  0.0|    0.5|      1.58|         0.0|     null|                  0.3|        7.88|           1|        1|                 0.0|\n",
      "|       2| 2020-01-31 20:24:10|  2020-01-31 20:31:51|                 N|         1|         173|          70|              1|         0.98|        7.0|  0.5|    0.5|       0.0|         0.0|     null|                  0.3|         8.3|           2|        1|                 0.0|\n",
      "|       2| 2020-01-07 08:16:53|  2020-01-07 08:41:39|                 N|         1|          74|         236|              1|          2.7|       16.0|  0.0|    0.5|      3.91|         0.0|     null|                  0.3|       23.46|           1|        1|                2.75|\n",
      "|       1| 2020-01-15 14:47:15|  2020-01-15 14:54:34|                 N|         1|          25|          66|              1|          0.8|        6.5|  0.0|    0.5|       0.0|         0.0|     null|                  0.3|         7.3|           2|        1|                 0.0|\n",
      "|    null| 2020-01-31 10:08:00|  2020-01-31 10:20:00|              null|      null|         259|          51|           null|         2.33|      22.49| 2.75|    0.0|       0.0|         0.0|     null|                  0.3|       25.54|        null|     null|                null|\n",
      "+--------+--------------------+---------------------+------------------+----------+------------+------------+---------------+-------------+-----------+-----+-------+----------+------------+---------+---------------------+------------+------------+---------+--------------------+\n",
      "only showing top 5 rows\n",
      "\n"
     ]
    },
    {
     "name": "stderr",
     "output_type": "stream",
     "text": [
      "                                                                                \r"
     ]
    }
   ],
   "source": [
    "df_green.show(5)"
   ]
  },
  {
   "cell_type": "code",
   "execution_count": 7,
   "id": "e67b9da3-84eb-4498-8b32-da71e0a72e22",
   "metadata": {},
   "outputs": [
    {
     "name": "stderr",
     "output_type": "stream",
     "text": [
      "23/08/10 19:53:20 WARN GhfsStorageStatistics: Detected potential high latency for operation op_open. latencyMs=200; previousMaxLatencyMs=176; operationCount=150; context=gs://data_zoo_bucket_free/data/pq/green/2020/05/part-00001-531c41d1-4c74-4788-8f06-78373a98384d-c000.snappy.parquet\n",
      "                                                                                \r"
     ]
    },
    {
     "data": {
      "text/plain": [
       "2304517"
      ]
     },
     "execution_count": 7,
     "metadata": {},
     "output_type": "execute_result"
    }
   ],
   "source": [
    "df_green.count()"
   ]
  }
 ],
 "metadata": {
  "kernelspec": {
   "display_name": "Python 3 (ipykernel)",
   "language": "python",
   "name": "python3"
  },
  "language_info": {
   "codemirror_mode": {
    "name": "ipython",
    "version": 3
   },
   "file_extension": ".py",
   "mimetype": "text/x-python",
   "name": "python",
   "nbconvert_exporter": "python",
   "pygments_lexer": "ipython3",
   "version": "3.9.17"
  }
 },
 "nbformat": 4,
 "nbformat_minor": 5
}
